{
 "cells": [
  {
   "cell_type": "markdown",
   "id": "a943bd73",
   "metadata": {},
   "source": [
    "<h1> Numpy</h1>"
   ]
  },
  {
   "cell_type": "markdown",
   "id": "063f6c10",
   "metadata": {},
   "source": [
    "<p> numpy קודם כל נתקין את הספריה </p> "
   ]
  },
  {
   "cell_type": "code",
   "execution_count": 1,
   "id": "998cd80d",
   "metadata": {},
   "outputs": [],
   "source": [
    "pip install numpy"
   ]
  },
  {
   "cell_type": "markdown",
   "id": "53cf4456",
   "metadata": {},
   "source": [
    " :numpy כעת נייבא את    "
   ]
  },
  {
   "cell_type": "code",
   "execution_count": 20,
   "id": "f195112f",
   "metadata": {},
   "outputs": [],
   "source": [
    "import numpy as np"
   ]
  },
  {
   "cell_type": "markdown",
   "id": "9594a83e",
   "metadata": {},
   "source": [
    "<h3>np.array()</h3>"
   ]
  },
  {
   "cell_type": "markdown",
   "id": "3f253651",
   "metadata": {},
   "source": [
    "זהו מערך שעבורו מוגדרות פעולות נוספות מעבר למערך רגיל של פייתון. "
   ]
  },
  {
   "cell_type": "markdown",
   "id": "d2afb7f7",
   "metadata": {},
   "source": [
    ":בצורה הכי פשוטה אפשר פשוט להפוך רשימה רגילה של פייתון למערך כזה"
   ]
  },
  {
   "cell_type": "code",
   "execution_count": 21,
   "id": "a78d0a94",
   "metadata": {},
   "outputs": [],
   "source": [
    "simple_list = [1, 2, 3]\n",
    "special_array = np.array(simple_list)"
   ]
  },
  {
   "cell_type": "markdown",
   "id": "b838ce56",
   "metadata": {},
   "source": [
    ":אם נדפיס אותם הם לכאורה יראו אותו דבר בדיוק"
   ]
  },
  {
   "cell_type": "code",
   "execution_count": 22,
   "id": "9eb9be23",
   "metadata": {},
   "outputs": [
    {
     "name": "stdout",
     "output_type": "stream",
     "text": [
      "list [1, 2, 3]\n",
      "array [1 2 3]\n"
     ]
    }
   ],
   "source": [
    "print('list', simple_list)\n",
    "print('array', special_array)"
   ]
  },
  {
   "cell_type": "markdown",
   "id": "66032c55",
   "metadata": {},
   "source": [
    ":נבדוק מה הסוג של כל אחד מהם"
   ]
  },
  {
   "cell_type": "code",
   "execution_count": 23,
   "id": "242bee62",
   "metadata": {},
   "outputs": [
    {
     "name": "stdout",
     "output_type": "stream",
     "text": [
      "list <class 'list'>\n",
      "array <class 'numpy.ndarray'>\n"
     ]
    }
   ],
   "source": [
    "print('list', type(simple_list))\n",
    "print('array', type(special_array))"
   ]
  },
  {
   "cell_type": "markdown",
   "id": "56b9b882",
   "metadata": {},
   "source": [
    ":בדיקת סוג הנתונים במערך"
   ]
  },
  {
   "cell_type": "code",
   "execution_count": 60,
   "id": "d95fda8c",
   "metadata": {},
   "outputs": [
    {
     "data": {
      "text/plain": [
       "dtype('int32')"
      ]
     },
     "execution_count": 60,
     "metadata": {},
     "output_type": "execute_result"
    }
   ],
   "source": [
    "special_array.dtype"
   ]
  },
  {
   "cell_type": "markdown",
   "id": "cfc1d0d0",
   "metadata": {},
   "source": [
    "<h3>np.zeroz()</h3>"
   ]
  },
  {
   "cell_type": "markdown",
   "id": "cc26c259",
   "metadata": {},
   "source": [
    " .זוהי פונקציה היוצרת מערך מאותחל באפסים"
   ]
  },
  {
   "cell_type": "code",
   "execution_count": 24,
   "id": "72027f09",
   "metadata": {},
   "outputs": [
    {
     "data": {
      "text/plain": [
       "array([0., 0., 0., 0., 0., 0., 0., 0., 0., 0.])"
      ]
     },
     "execution_count": 24,
     "metadata": {},
     "output_type": "execute_result"
    }
   ],
   "source": [
    "new_array = np.zeros(10)\n",
    "new_array"
   ]
  },
  {
   "cell_type": "markdown",
   "id": "113f5a9a",
   "metadata": {},
   "source": [
    ".חשוב לזכור!!! המערך יכול להכיל רק סוג אחד של נתונים בשונה מרשימה רגילה של פייתון"
   ]
  },
  {
   "cell_type": "markdown",
   "id": "1246f61b",
   "metadata": {},
   "source": [
    ":יש דרך נוספת ליצור מערך ולמלא אותו באפסים"
   ]
  },
  {
   "cell_type": "code",
   "execution_count": 25,
   "id": "d57b43a0",
   "metadata": {},
   "outputs": [
    {
     "data": {
      "text/plain": [
       "array([0., 0., 0., 0., 0., 0., 0., 0., 0., 0.])"
      ]
     },
     "execution_count": 25,
     "metadata": {},
     "output_type": "execute_result"
    }
   ],
   "source": [
    "arr = np.empty(10)\n",
    "arr"
   ]
  },
  {
   "cell_type": "markdown",
   "id": "ba6dc52c",
   "metadata": {},
   "source": [
    "<h3>np.ones()</h3>"
   ]
  },
  {
   "cell_type": "markdown",
   "id": "73d5b2f8",
   "metadata": {},
   "source": [
    ":ניתן גם ליצור מערך של אחדות"
   ]
  },
  {
   "cell_type": "code",
   "execution_count": 26,
   "id": "a3563677",
   "metadata": {},
   "outputs": [
    {
     "data": {
      "text/plain": [
       "array([1., 1., 1., 1., 1., 1., 1., 1., 1., 1.])"
      ]
     },
     "execution_count": 26,
     "metadata": {},
     "output_type": "execute_result"
    }
   ],
   "source": [
    "ones = np.ones(10)\n",
    "ones"
   ]
  },
  {
   "cell_type": "markdown",
   "id": "619ff365",
   "metadata": {},
   "source": [
    "np.full() ניתן ליצור מערך של כל מספר שנרצה ע\"י הפונקציה "
   ]
  },
  {
   "cell_type": "code",
   "execution_count": 47,
   "id": "a4490f6e",
   "metadata": {},
   "outputs": [
    {
     "data": {
      "text/plain": [
       "array([4, 4, 4, 4, 4, 4, 4, 4, 4, 4])"
      ]
     },
     "execution_count": 47,
     "metadata": {},
     "output_type": "execute_result"
    }
   ],
   "source": [
    "fours = np.full(10, 4)\n",
    "fours"
   ]
  },
  {
   "cell_type": "markdown",
   "id": "e648422d",
   "metadata": {},
   "source": [
    ":יצירת מערך של סדרת מספרים"
   ]
  },
  {
   "cell_type": "code",
   "execution_count": 119,
   "id": "a19f1124",
   "metadata": {},
   "outputs": [
    {
     "data": {
      "text/plain": [
       "array([12, 13, 14, 15, 16, 17, 18, 19])"
      ]
     },
     "execution_count": 119,
     "metadata": {},
     "output_type": "execute_result"
    }
   ],
   "source": [
    "array = np.arange(12, 20)\n",
    "array"
   ]
  },
  {
   "cell_type": "code",
   "execution_count": 120,
   "id": "94f76b9b",
   "metadata": {},
   "outputs": [
    {
     "data": {
      "text/plain": [
       "array([30, 27, 24, 21])"
      ]
     },
     "execution_count": 120,
     "metadata": {},
     "output_type": "execute_result"
    }
   ],
   "source": [
    "other_array = np.arange(30, 20, -3)\n",
    "other_array"
   ]
  },
  {
   "cell_type": "markdown",
   "id": "c58365a4",
   "metadata": {},
   "source": [
    "# מערך רב מימדי"
   ]
  },
  {
   "cell_type": "code",
   "execution_count": 48,
   "id": "3e240604",
   "metadata": {},
   "outputs": [],
   "source": [
    "two_dim = np.array([[1, 2, 3], [4, 5, 6], [5, 6, 7]])"
   ]
  },
  {
   "cell_type": "code",
   "execution_count": 49,
   "id": "5048b3be",
   "metadata": {},
   "outputs": [],
   "source": [
    "three_dim = np.array([[[1, 2], [3, 4]],\n",
    "                      [[5, 6], [7, 8]],\n",
    "                      [[9, 10],[ 10, 11]]])"
   ]
  },
  {
   "cell_type": "markdown",
   "id": "a19acdd5",
   "metadata": {},
   "source": [
    ".בעצם כל פעם שאנחנו עוטפים בעוד סוגריים מרובעות , נוסף עוד מימד למערך"
   ]
  },
  {
   "cell_type": "markdown",
   "id": "f121e2e9",
   "metadata": {},
   "source": [
    "<h3> np.zeros() בחזרה לפונקציה </h3>"
   ]
  },
  {
   "cell_type": "markdown",
   "id": "4e60f5bd",
   "metadata": {},
   "source": [
    ":בואו ננסה לשלוח אליה פרמטר של יותר ממיד אחד"
   ]
  },
  {
   "cell_type": "code",
   "execution_count": 50,
   "id": "4959b6bf",
   "metadata": {},
   "outputs": [
    {
     "ename": "TypeError",
     "evalue": "Cannot interpret '2' as a data type",
     "output_type": "error",
     "traceback": [
      "\u001b[1;31m---------------------------------------------------------------------------\u001b[0m",
      "\u001b[1;31mTypeError\u001b[0m                                 Traceback (most recent call last)",
      "Cell \u001b[1;32mIn[50], line 1\u001b[0m\n\u001b[1;32m----> 1\u001b[0m try_zeros \u001b[38;5;241m=\u001b[39m \u001b[43mnp\u001b[49m\u001b[38;5;241;43m.\u001b[39;49m\u001b[43mzeros\u001b[49m\u001b[43m(\u001b[49m\u001b[38;5;241;43m2\u001b[39;49m\u001b[43m,\u001b[49m\u001b[43m \u001b[49m\u001b[38;5;241;43m2\u001b[39;49m\u001b[43m)\u001b[49m\n",
      "\u001b[1;31mTypeError\u001b[0m: Cannot interpret '2' as a data type"
     ]
    }
   ],
   "source": [
    "try_zeros = np.zeros(2, 2)"
   ]
  },
  {
   "cell_type": "markdown",
   "id": "f4714772",
   "metadata": {},
   "source": [
    "!נופלת לנו שגיאה"
   ]
  },
  {
   "cell_type": "markdown",
   "id": "7ad73fe0",
   "metadata": {},
   "source": [
    ":כאן חשוב להבין ולזכור\n"
   ]
  },
  {
   "cell_type": "markdown",
   "id": "212f7a04",
   "metadata": {},
   "source": [
    "tuple כאשר אנו שולחים לה פרמטר של יותר ממימד אחד, נשלח אותו כ   "
   ]
  },
  {
   "cell_type": "code",
   "execution_count": 52,
   "id": "07d597ec",
   "metadata": {},
   "outputs": [
    {
     "data": {
      "text/plain": [
       "array([[0., 0.],\n",
       "       [0., 0.],\n",
       "       [0., 0.]])"
      ]
     },
     "execution_count": 52,
     "metadata": {},
     "output_type": "execute_result"
    }
   ],
   "source": [
    "try_zeros = np.zeros((3, 2))\n",
    "try_zeros"
   ]
  },
  {
   "cell_type": "markdown",
   "id": "141a59ec",
   "metadata": {},
   "source": [
    "# מציאת מספר המימדים של מערך"
   ]
  },
  {
   "cell_type": "markdown",
   "id": "092544d7",
   "metadata": {},
   "source": [
    "<h3> np.ndim() </h3>"
   ]
  },
  {
   "cell_type": "code",
   "execution_count": 55,
   "id": "f81da17a",
   "metadata": {},
   "outputs": [
    {
     "data": {
      "text/plain": [
       "2"
      ]
     },
     "execution_count": 55,
     "metadata": {},
     "output_type": "execute_result"
    }
   ],
   "source": [
    "np.ndim(try_zeros)"
   ]
  },
  {
   "cell_type": "code",
   "execution_count": 56,
   "id": "a9f15001",
   "metadata": {},
   "outputs": [
    {
     "data": {
      "text/plain": [
       "3"
      ]
     },
     "execution_count": 56,
     "metadata": {},
     "output_type": "execute_result"
    }
   ],
   "source": [
    "np.ndim(three_dim)"
   ]
  },
  {
   "cell_type": "markdown",
   "id": "fb8fd899",
   "metadata": {},
   "source": [
    "shape אם נרצה לקבל מידע יותר מפורט ממספר המימדים, נוכל להשתמש ב  "
   ]
  },
  {
   "cell_type": "code",
   "execution_count": 59,
   "id": "98fdf89d",
   "metadata": {},
   "outputs": [
    {
     "data": {
      "text/plain": [
       "(3, 2, 2)"
      ]
     },
     "execution_count": 59,
     "metadata": {},
     "output_type": "execute_result"
    }
   ],
   "source": [
    "three_dim.shape"
   ]
  },
  {
   "cell_type": "markdown",
   "id": "95ccc80e",
   "metadata": {},
   "source": [
    ":וכדי לגלות את גודל המערך"
   ]
  },
  {
   "cell_type": "code",
   "execution_count": 64,
   "id": "d9c677f2",
   "metadata": {},
   "outputs": [
    {
     "data": {
      "text/plain": [
       "12"
      ]
     },
     "execution_count": 64,
     "metadata": {},
     "output_type": "execute_result"
    }
   ],
   "source": [
    "three_dim.size"
   ]
  },
  {
   "cell_type": "markdown",
   "id": "f0fd0029",
   "metadata": {},
   "source": [
    "# יצירת מערכים עם ערכים אקראיים"
   ]
  },
  {
   "cell_type": "markdown",
   "id": "f03d8129",
   "metadata": {},
   "source": [
    "מספרים אקראיים"
   ]
  },
  {
   "cell_type": "code",
   "execution_count": 68,
   "id": "8c92ff83",
   "metadata": {},
   "outputs": [
    {
     "data": {
      "text/plain": [
       "0.1355482698063608"
      ]
     },
     "execution_count": 68,
     "metadata": {},
     "output_type": "execute_result"
    }
   ],
   "source": [
    "random_float = np.random.rand()\n",
    "random_float"
   ]
  },
  {
   "cell_type": "code",
   "execution_count": 69,
   "id": "6fde7df1",
   "metadata": {},
   "outputs": [
    {
     "data": {
      "text/plain": [
       "87"
      ]
     },
     "execution_count": 69,
     "metadata": {},
     "output_type": "execute_result"
    }
   ],
   "source": [
    "random_int = np.random.randint(10, 100)\n",
    "random_int"
   ]
  },
  {
   "cell_type": "markdown",
   "id": "800b430c",
   "metadata": {},
   "source": [
    "מערכים אקראיים"
   ]
  },
  {
   "cell_type": "code",
   "execution_count": 72,
   "id": "6bf9afdf",
   "metadata": {},
   "outputs": [
    {
     "data": {
      "text/plain": [
       "array([[0.73103847, 0.22293532, 0.5908581 , 0.56437102],\n",
       "       [0.80790395, 0.56223602, 0.77451149, 0.29056381],\n",
       "       [0.03866867, 0.61814278, 0.73290921, 0.34834887],\n",
       "       [0.07205169, 0.53037733, 0.81727003, 0.89550009]])"
      ]
     },
     "execution_count": 72,
     "metadata": {},
     "output_type": "execute_result"
    }
   ],
   "source": [
    "random_array = np.random.rand(4, 4)\n",
    "random_array"
   ]
  },
  {
   "cell_type": "code",
   "execution_count": 73,
   "id": "190b9758",
   "metadata": {},
   "outputs": [
    {
     "data": {
      "text/plain": [
       "array([[3, 8, 7],\n",
       "       [7, 5, 9],\n",
       "       [7, 4, 1]])"
      ]
     },
     "execution_count": 73,
     "metadata": {},
     "output_type": "execute_result"
    }
   ],
   "source": [
    "random_int_array = np.random.randint(1, 10, size=(3, 3))\n",
    "random_int_array"
   ]
  },
  {
   "cell_type": "markdown",
   "id": "317c5483",
   "metadata": {},
   "source": [
    "# תרגילים"
   ]
  },
  {
   "cell_type": "markdown",
   "id": "91419918",
   "metadata": {},
   "source": [
    "תרגיל 1: יצירת מערך ובדיקת תכונותיה\n",
    "\n",
    "תיאור: צרי מערך של 10 מספרים שלמים באקראי בין 1 ל-50. בדקי את גודל המערך, סוג הנתונים ומספר הממדים שלו."
   ]
  },
  {
   "cell_type": "markdown",
   "id": "a90d8401",
   "metadata": {},
   "source": [
    "תרגיל 2: יצירת מערך דו-ממדי\n",
    "\n",
    "תיאור: צרי מערך דו-ממדי עם 2 שורות ו-5 עמודות של מספרים אקראיים בין 10 ל-100. בדקי את הצורה של המערך."
   ]
  },
  {
   "cell_type": "markdown",
   "id": "c29510aa",
   "metadata": {},
   "source": [
    "# גישה לערכים ספציפיים במערך"
   ]
  },
  {
   "cell_type": "code",
   "execution_count": 85,
   "id": "6885816b",
   "metadata": {},
   "outputs": [
    {
     "data": {
      "text/plain": [
       "10"
      ]
     },
     "execution_count": 85,
     "metadata": {},
     "output_type": "execute_result"
    }
   ],
   "source": [
    "num = three_dim[2][ 0][1]\n",
    "num"
   ]
  },
  {
   "cell_type": "code",
   "execution_count": 86,
   "id": "213f7f37",
   "metadata": {},
   "outputs": [
    {
     "data": {
      "text/plain": [
       "10"
      ]
     },
     "execution_count": 86,
     "metadata": {},
     "output_type": "execute_result"
    }
   ],
   "source": [
    "num = three_dim[2, 0, 1]\n",
    "num"
   ]
  },
  {
   "cell_type": "markdown",
   "id": "cd0c00d8",
   "metadata": {},
   "source": [
    ":וכמו ברשימות רגילות אפשר לגשת גם מהסוף עם אינדקס שלילי"
   ]
  },
  {
   "cell_type": "code",
   "execution_count": 90,
   "id": "8ae45534",
   "metadata": {},
   "outputs": [
    {
     "data": {
      "text/plain": [
       "7"
      ]
     },
     "execution_count": 90,
     "metadata": {},
     "output_type": "execute_result"
    }
   ],
   "source": [
    "num = three_dim[-2][1][0]\n",
    "num"
   ]
  },
  {
   "cell_type": "code",
   "execution_count": 91,
   "id": "c80b1948",
   "metadata": {},
   "outputs": [
    {
     "data": {
      "text/plain": [
       "array([[[ 1,  2],\n",
       "        [ 3,  4]],\n",
       "\n",
       "       [[ 5,  6],\n",
       "        [ 7,  8]],\n",
       "\n",
       "       [[ 9, 10],\n",
       "        [10, 11]]])"
      ]
     },
     "execution_count": 91,
     "metadata": {},
     "output_type": "execute_result"
    }
   ],
   "source": [
    "three_dim"
   ]
  },
  {
   "cell_type": "markdown",
   "id": "422af167",
   "metadata": {},
   "source": [
    ":אפשר לגשת למערך בעזרת תנאי בוליאני, וכך לקבל רק את מה שעונה על תנאי מסוים"
   ]
  },
  {
   "cell_type": "code",
   "execution_count": 117,
   "id": "a7aaa769",
   "metadata": {},
   "outputs": [
    {
     "data": {
      "text/plain": [
       "array([ 6,  7,  8,  9, 10])"
      ]
     },
     "execution_count": 117,
     "metadata": {},
     "output_type": "execute_result"
    }
   ],
   "source": [
    "arr = np.array([1, 2, 3, 4, 5, 6, 7, 8, 9, 10])\n",
    "condition = arr > 5\n",
    "filtered_arr = arr[condition]\n",
    "filtered_arr"
   ]
  },
  {
   "cell_type": "markdown",
   "id": "babc0b42",
   "metadata": {},
   "source": [
    "# numpy עיבוד נתונים עם "
   ]
  },
  {
   "cell_type": "markdown",
   "id": "ace27e81",
   "metadata": {},
   "source": [
    ":חיבור מערכים"
   ]
  },
  {
   "cell_type": "code",
   "execution_count": 93,
   "id": "05a225bb",
   "metadata": {},
   "outputs": [
    {
     "data": {
      "text/plain": [
       "array([3, 4, 5])"
      ]
     },
     "execution_count": 93,
     "metadata": {},
     "output_type": "execute_result"
    }
   ],
   "source": [
    "a = np.array([1, 2, 3])\n",
    "b = np.array([2, 2, 2])\n",
    "ab = np.add(a, b)\n",
    "ab"
   ]
  },
  {
   "cell_type": "code",
   "execution_count": 94,
   "id": "a2a544ce",
   "metadata": {},
   "outputs": [
    {
     "data": {
      "text/plain": [
       "array([3, 4, 5])"
      ]
     },
     "execution_count": 94,
     "metadata": {},
     "output_type": "execute_result"
    }
   ],
   "source": [
    "ab = a + b\n",
    "ab"
   ]
  },
  {
   "cell_type": "markdown",
   "id": "806cdf91",
   "metadata": {},
   "source": [
    ":חיסור מערכים"
   ]
  },
  {
   "cell_type": "code",
   "execution_count": 97,
   "id": "1822e6c3",
   "metadata": {},
   "outputs": [
    {
     "data": {
      "text/plain": [
       "array([-1,  0,  1])"
      ]
     },
     "execution_count": 97,
     "metadata": {},
     "output_type": "execute_result"
    }
   ],
   "source": [
    "bc = np.subtract(a, b)\n",
    "bc"
   ]
  },
  {
   "cell_type": "code",
   "execution_count": 98,
   "id": "03687684",
   "metadata": {},
   "outputs": [
    {
     "data": {
      "text/plain": [
       "array([-1,  0,  1])"
      ]
     },
     "execution_count": 98,
     "metadata": {},
     "output_type": "execute_result"
    }
   ],
   "source": [
    "bc = a - b\n",
    "bc"
   ]
  },
  {
   "cell_type": "markdown",
   "id": "885db8c3",
   "metadata": {},
   "source": [
    ":כפל מערכים"
   ]
  },
  {
   "cell_type": "code",
   "execution_count": 99,
   "id": "11b86a4a",
   "metadata": {},
   "outputs": [
    {
     "data": {
      "text/plain": [
       "array([2, 4, 6])"
      ]
     },
     "execution_count": 99,
     "metadata": {},
     "output_type": "execute_result"
    }
   ],
   "source": [
    "cd = np.multiply(a, b)\n",
    "cd"
   ]
  },
  {
   "cell_type": "code",
   "execution_count": 100,
   "id": "8c94805a",
   "metadata": {},
   "outputs": [
    {
     "data": {
      "text/plain": [
       "array([2, 4, 6])"
      ]
     },
     "execution_count": 100,
     "metadata": {},
     "output_type": "execute_result"
    }
   ],
   "source": [
    "cd = a * b\n",
    "cd"
   ]
  },
  {
   "cell_type": "code",
   "execution_count": 101,
   "id": "7f17c61e",
   "metadata": {},
   "outputs": [
    {
     "data": {
      "text/plain": [
       "array([1, 4, 9])"
      ]
     },
     "execution_count": 101,
     "metadata": {},
     "output_type": "execute_result"
    }
   ],
   "source": [
    "de = a ** b\n",
    "de"
   ]
  },
  {
   "cell_type": "markdown",
   "id": "36a95459",
   "metadata": {},
   "source": [
    ":חילוק מערכים"
   ]
  },
  {
   "cell_type": "code",
   "execution_count": 102,
   "id": "8acf4b4e",
   "metadata": {},
   "outputs": [
    {
     "data": {
      "text/plain": [
       "array([0.5, 1. , 1.5])"
      ]
     },
     "execution_count": 102,
     "metadata": {},
     "output_type": "execute_result"
    }
   ],
   "source": [
    "ef = np.divide(a, b)\n",
    "ef"
   ]
  },
  {
   "cell_type": "code",
   "execution_count": 103,
   "id": "f6cbe184",
   "metadata": {},
   "outputs": [
    {
     "data": {
      "text/plain": [
       "array([0.5, 1. , 1.5])"
      ]
     },
     "execution_count": 103,
     "metadata": {},
     "output_type": "execute_result"
    }
   ],
   "source": [
    "ef = a / b\n",
    "ef"
   ]
  },
  {
   "cell_type": "markdown",
   "id": "e6b2ed02",
   "metadata": {},
   "source": [
    "# שינוי צורה של מערך"
   ]
  },
  {
   "cell_type": "code",
   "execution_count": 122,
   "id": "0ec2236b",
   "metadata": {},
   "outputs": [
    {
     "data": {
      "text/plain": [
       "array([[1, 2, 3],\n",
       "       [4, 5, 6]])"
      ]
     },
     "execution_count": 122,
     "metadata": {},
     "output_type": "execute_result"
    }
   ],
   "source": [
    "arr = np.array([1, 2, 3, 4, 5, 6])\n",
    "reshaped_arr = arr.reshape(2, 3)\n",
    "reshaped_arr"
   ]
  },
  {
   "cell_type": "markdown",
   "id": "fab30d36",
   "metadata": {},
   "source": [
    "!חשוב להקפיד לשים לב שמספר האלמנטים חייב להיות זהה ב2 הצורות"
   ]
  },
  {
   "cell_type": "markdown",
   "id": "e70ced25",
   "metadata": {},
   "source": [
    "# פונקציות אוניברסליות"
   ]
  },
  {
   "cell_type": "markdown",
   "id": "4764272c",
   "metadata": {},
   "source": [
    ": חישוב שורש ריבועי לכל אלמנט"
   ]
  },
  {
   "cell_type": "code",
   "execution_count": 105,
   "id": "81a39510",
   "metadata": {},
   "outputs": [
    {
     "data": {
      "text/plain": [
       "array([1., 2., 3.])"
      ]
     },
     "execution_count": 105,
     "metadata": {},
     "output_type": "execute_result"
    }
   ],
   "source": [
    "after_sqrt = np.sqrt(de)\n",
    "after_sqrt"
   ]
  },
  {
   "cell_type": "markdown",
   "id": "9963183e",
   "metadata": {},
   "source": [
    ": n העלאת כל אלמנט בחזקת"
   ]
  },
  {
   "cell_type": "code",
   "execution_count": 107,
   "id": "c7e811b8",
   "metadata": {},
   "outputs": [
    {
     "data": {
      "text/plain": [
       "array([ 1, 16, 81], dtype=int32)"
      ]
     },
     "execution_count": 107,
     "metadata": {},
     "output_type": "execute_result"
    }
   ],
   "source": [
    "power = np.power(de, 2)\n",
    "power"
   ]
  },
  {
   "cell_type": "markdown",
   "id": "1370c81f",
   "metadata": {},
   "source": [
    "מציאת מינימום :"
   ]
  },
  {
   "cell_type": "code",
   "execution_count": 108,
   "id": "085455a3",
   "metadata": {},
   "outputs": [
    {
     "data": {
      "text/plain": [
       "1"
      ]
     },
     "execution_count": 108,
     "metadata": {},
     "output_type": "execute_result"
    }
   ],
   "source": [
    "power.min()"
   ]
  },
  {
   "cell_type": "markdown",
   "id": "8e4fe9e1",
   "metadata": {},
   "source": [
    ":מציאת מקסימום"
   ]
  },
  {
   "cell_type": "code",
   "execution_count": 111,
   "id": "3fd9ee01",
   "metadata": {},
   "outputs": [
    {
     "data": {
      "text/plain": [
       "81"
      ]
     },
     "execution_count": 111,
     "metadata": {},
     "output_type": "execute_result"
    }
   ],
   "source": [
    "power.max()"
   ]
  },
  {
   "cell_type": "markdown",
   "id": "5ce80923",
   "metadata": {},
   "source": [
    ":מציאת סכום"
   ]
  },
  {
   "cell_type": "code",
   "execution_count": 112,
   "id": "df9b8222",
   "metadata": {},
   "outputs": [
    {
     "data": {
      "text/plain": [
       "98"
      ]
     },
     "execution_count": 112,
     "metadata": {},
     "output_type": "execute_result"
    }
   ],
   "source": [
    "np.sum(power)"
   ]
  },
  {
   "cell_type": "markdown",
   "id": "caa69ee6",
   "metadata": {},
   "source": [
    ":מציאת ממוצע"
   ]
  },
  {
   "cell_type": "code",
   "execution_count": 114,
   "id": "39f9cfe5",
   "metadata": {},
   "outputs": [
    {
     "data": {
      "text/plain": [
       "32.666666666666664"
      ]
     },
     "execution_count": 114,
     "metadata": {},
     "output_type": "execute_result"
    }
   ],
   "source": [
    "np.mean(power)"
   ]
  },
  {
   "cell_type": "markdown",
   "id": "2b8b74b7",
   "metadata": {},
   "source": [
    ":מציאת חציון"
   ]
  },
  {
   "cell_type": "code",
   "execution_count": 115,
   "id": "d1bed4d6",
   "metadata": {},
   "outputs": [
    {
     "data": {
      "text/plain": [
       "16.0"
      ]
     },
     "execution_count": 115,
     "metadata": {},
     "output_type": "execute_result"
    }
   ],
   "source": [
    "np.median(power)"
   ]
  },
  {
   "cell_type": "markdown",
   "id": "5ef46100",
   "metadata": {},
   "source": [
    ":מציאת סטיית התקן"
   ]
  },
  {
   "cell_type": "code",
   "execution_count": 116,
   "id": "f6b99b97",
   "metadata": {},
   "outputs": [
    {
     "data": {
      "text/plain": [
       "34.721111093332766"
      ]
     },
     "execution_count": 116,
     "metadata": {},
     "output_type": "execute_result"
    }
   ],
   "source": [
    "np.std(power)"
   ]
  },
  {
   "cell_type": "markdown",
   "id": "b6952f28",
   "metadata": {},
   "source": [
    "# תרגילים"
   ]
  },
  {
   "cell_type": "markdown",
   "id": "8f2e1736",
   "metadata": {},
   "source": [
    "1. צרי מערך באורך 10 של מספרים שלמים רנדומליים בין 1 ל-50 וחשבי את הממוצע של המספרים"
   ]
  },
  {
   "cell_type": "markdown",
   "id": "07430e23",
   "metadata": {},
   "source": [
    "2. צרי שני מערכים דו מימדיים בגודל 3, חברי אותם, ובדקי מה הממוצע של התוצאה"
   ]
  },
  {
   "cell_type": "markdown",
   "id": "23eddf11",
   "metadata": {},
   "source": [
    "3. צרי מערך של 20 מספרים שלמים רנדומליים בין 1 ל-100. מצאי את כל המספרים שגדולים מ-50 במערך זה."
   ]
  },
  {
   "cell_type": "markdown",
   "id": "15c69d30",
   "metadata": {},
   "source": [
    "4. צרי מערך של מספרים מ-1 עד 10. ערבבי את המערך ולאחר מכן בחרי באופן אקראי  אלמנטים ממנו "
   ]
  },
  {
   "cell_type": "markdown",
   "id": "c368d74b",
   "metadata": {},
   "source": [
    "# !בהצלחה"
   ]
  },
  {
   "cell_type": "code",
   "execution_count": null,
   "id": "51c6e416",
   "metadata": {},
   "outputs": [],
   "source": []
  },
  {
   "cell_type": "code",
   "execution_count": null,
   "id": "41d8d7b1-d5ff-4179-bf83-526ca4462383",
   "metadata": {},
   "outputs": [],
   "source": []
  },
  {
   "cell_type": "code",
   "execution_count": null,
   "id": "5cefa8eb-22d1-4c9e-9e7a-33516db816fe",
   "metadata": {},
   "outputs": [],
   "source": []
  }
 ],
 "metadata": {
  "kernelspec": {
   "display_name": "Python 3 (ipykernel)",
   "language": "python",
   "name": "python3"
  },
  "language_info": {
   "codemirror_mode": {
    "name": "ipython",
    "version": 3
   },
   "file_extension": ".py",
   "mimetype": "text/x-python",
   "name": "python",
   "nbconvert_exporter": "python",
   "pygments_lexer": "ipython3",
   "version": "3.10.8"
  }
 },
 "nbformat": 4,
 "nbformat_minor": 5
}
